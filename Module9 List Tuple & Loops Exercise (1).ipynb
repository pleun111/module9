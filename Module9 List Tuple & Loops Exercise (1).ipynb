{
 "cells": [
  {
   "cell_type": "markdown",
   "metadata": {},
   "source": [
    "### Exercise 1\n",
    "Ask a user for 5 names and place each one in to a list called <i>names</i>. Then, print <i>names</i>."
   ]
  },
  {
   "cell_type": "code",
   "execution_count": 1,
   "metadata": {},
   "outputs": [
    {
     "name": "stdout",
     "output_type": "stream",
     "text": [
      "Enter a name: a\n",
      "Enter a name: d\n",
      "Enter a name: g\n",
      "Enter a name: r\n",
      "Enter a name: y\n",
      "['a', 'd', 'g', 'r', 'y']\n"
     ]
    }
   ],
   "source": [
    "names = []\n",
    "\n",
    "\n",
    "names.append(input(\"Enter a name: \"))\n",
    "names.append(input(\"Enter a name: \"))\n",
    "names.append(input(\"Enter a name: \"))\n",
    "names.append(input(\"Enter a name: \"))\n",
    "names.append(input(\"Enter a name: \"))\n",
    "    \n",
    "print(names)    "
   ]
  },
  {
   "cell_type": "markdown",
   "metadata": {},
   "source": [
    "### Exercise 2\n",
    "Print out a randomly selected name in the names list from exercise 1."
   ]
  },
  {
   "cell_type": "code",
   "execution_count": 2,
   "metadata": {},
   "outputs": [
    {
     "name": "stdout",
     "output_type": "stream",
     "text": [
      "d\n"
     ]
    }
   ],
   "source": [
    "import random as rand\n",
    "\n",
    "index = rand.randint(0, 4)\n",
    "print(names[index])"
   ]
  },
  {
   "cell_type": "markdown",
   "metadata": {},
   "source": [
    "### Exercise 3: \n",
    "Fix bugs in the next cell.  It is trying to create a list for even numbers between two numbers provided by a user.\n"
   ]
  },
  {
   "cell_type": "code",
   "execution_count": 6,
   "metadata": {},
   "outputs": [
    {
     "name": "stdout",
     "output_type": "stream",
     "text": [
      "Enter a starting number: 1\n",
      "Enter an ending number: 9\n",
      "[1, 2, 3, 4, 5, 6, 7, 8]\n",
      "[2, 4, 6, 8]\n"
     ]
    }
   ],
   "source": [
    "no1 = int(input(\"Enter a starting number: \"))\n",
    "no2 = int(input(\"Enter an ending number: \"))\n",
    "\n",
    "numbers = []\n",
    "evens = []\n",
    "\n",
    "for i in range(no1, no2) :\n",
    "    numbers.append(i) \n",
    "    if (i%2 == 0) :  # even number\n",
    "        evens.append(i)\n",
    "    \n",
    "print(numbers)    \n",
    "print(evens)"
   ]
  },
  {
   "cell_type": "markdown",
   "metadata": {},
   "source": [
    "### Exercise 4\n",
    "Finish writing a program to generate 10 random numbers between 1 and 100 and save it to a list.\n",
    "Finally, print out the original numbers followed by the smallest, largest, and average number."
   ]
  },
  {
   "cell_type": "code",
   "execution_count": 8,
   "metadata": {},
   "outputs": [
    {
     "name": "stdout",
     "output_type": "stream",
     "text": [
      "Org Numbers are [46, 58, 27, 6, 59, 89, 5, 2, 3, 51]\n",
      "Sorted numbers are [2, 3, 5, 6, 27, 46, 51, 58, 59, 89]\n",
      "Largest number is 89\n",
      "Smallest number is 2\n",
      "Average is 34.6\n"
     ]
    }
   ],
   "source": [
    "import random as rand\n",
    "\n",
    "numbers = []\n",
    "total = 0\n",
    "\n",
    "for i in range(1, 11) :\n",
    "    numb = rand.randint(1, 100)\n",
    "    total += numb\n",
    "    numbers.append(numb)\n",
    "\n",
    "    \n",
    "# some code needed here to find the smallest, largest, and average number\n",
    "org_numbs = numbers.copy()\n",
    "numbers.sort()\n",
    "avg = total / 10\n",
    "largest = numbers[-1]\n",
    "smallest = numbers[0]\n",
    "\n",
    "\n",
    "\n",
    "\n",
    "print(f\"Org Numbers are {org_numbs}\")\n",
    "print(f\"Sorted numbers are {numbers}\")\n",
    "print(f\"Largest number is {largest}\")\n",
    "print(f\"Smallest number is {smallest}\")\n",
    "print(f\"Average is {avg}\")"
   ]
  },
  {
   "cell_type": "markdown",
   "metadata": {},
   "source": [
    "### Exercise 5\n",
    "\n",
    "Write a function called <b>draw_triangle()</b> to draw a right triangle where the base of the triangle is the number passed in as an arguement. Call <b>draw_triangle()</b> to show it works.\n",
    "\n",
    "e.g. <b>draw_triangle(7)</b> draws as below:\n",
    "\n",
    "    *\n",
    "    **\n",
    "    ***\n",
    "    ****\n",
    "    *****\n",
    "    ******\n",
    "    *******\n"
   ]
  },
  {
   "cell_type": "code",
   "execution_count": 9,
   "metadata": {},
   "outputs": [],
   "source": [
    "# write code for draw_triangle() function\n",
    "def mytriangle(arg) :\n",
    "    for i in range(0,arg) :\n",
    "        for j in range(0,i) :\n",
    "            print (f\"*\", end=\"\")\n",
    "        print()\n",
    "        \n",
    "    return\n",
    "\n",
    "\n",
    "\n",
    "\n"
   ]
  },
  {
   "cell_type": "code",
   "execution_count": 12,
   "metadata": {},
   "outputs": [
    {
     "name": "stdout",
     "output_type": "stream",
     "text": [
      "Enter a number: 7\n",
      "\n",
      "*\n",
      "**\n",
      "***\n",
      "****\n",
      "*****\n",
      "******\n"
     ]
    }
   ],
   "source": [
    "arg = int(input(\"Enter a number: \"))\n",
    "\n",
    "mytriangle(arg)"
   ]
  }
 ],
 "metadata": {
  "kernelspec": {
   "display_name": "Python 3",
   "language": "python",
   "name": "python3"
  },
  "language_info": {
   "codemirror_mode": {
    "name": "ipython",
    "version": 3
   },
   "file_extension": ".py",
   "mimetype": "text/x-python",
   "name": "python",
   "nbconvert_exporter": "python",
   "pygments_lexer": "ipython3",
   "version": "3.8.8"
  }
 },
 "nbformat": 4,
 "nbformat_minor": 4
}
